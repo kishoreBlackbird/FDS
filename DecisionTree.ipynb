{
  "nbformat": 4,
  "nbformat_minor": 0,
  "metadata": {
    "colab": {
      "name": "ex1.ipynb",
      "provenance": [],
      "collapsed_sections": [],
      "authorship_tag": "ABX9TyMNnqgIj81UOBIVpD+jLWdg",
      "include_colab_link": true
    },
    "kernelspec": {
      "name": "python3",
      "display_name": "Python 3"
    },
    "language_info": {
      "name": "python"
    }
  },
  "cells": [
    {
      "cell_type": "markdown",
      "metadata": {
        "id": "view-in-github",
        "colab_type": "text"
      },
      "source": [
        "<a href=\"https://colab.research.google.com/github/kishoreBlackbird/FDS/blob/main/DecisionTree.ipynb\" target=\"_parent\"><img src=\"https://colab.research.google.com/assets/colab-badge.svg\" alt=\"Open In Colab\"/></a>"
      ]
    },
    {
      "cell_type": "code",
      "execution_count": 101,
      "metadata": {
        "id": "QMfuAbyLhqUr"
      },
      "outputs": [],
      "source": [
        "import pandas as pd\n",
        "from sklearn.preprocessing import MinMaxScaler\n",
        "from sklearn.model_selection import train_test_split\n",
        "from sklearn.preprocessing import StandardScaler\n",
        "from sklearn.tree import DecisionTreeClassifier\n",
        "import matplotlib as mpl\n",
        "import matplotlib.pyplot as plt"
      ]
    },
    {
      "cell_type": "code",
      "source": [
        "df=pd.read_csv(\"car.csv\")\n",
        "print(df)\n",
        "df.head()\n",
        "for coln in df:\n",
        "  df[coln]=df[coln].astype('category').cat.codes"
      ],
      "metadata": {
        "colab": {
          "base_uri": "https://localhost:8080/"
        },
        "id": "ytyw8xIW3sJG",
        "outputId": "b502ba44-ef00-47cd-abe6-093f32dc4584"
      },
      "execution_count": 102,
      "outputs": [
        {
          "output_type": "stream",
          "name": "stdout",
          "text": [
            "     buying  maint  doors  persons lug_boot safety  unacc\n",
            "0         3  vhigh      2        2    small    med  unacc\n",
            "1         3  vhigh      2        2    small   high  unacc\n",
            "2         3  vhigh      2        2      med    low  unacc\n",
            "3         3  vhigh      2        2      med    med  unacc\n",
            "4         3  vhigh      2        2      med   high  unacc\n",
            "..      ...    ...    ...      ...      ...    ...    ...\n",
            "194       1   high      5        2      big    low  unacc\n",
            "195       1   high      5        2      big    med  unacc\n",
            "196       1   high      5        2      big   high  unacc\n",
            "197       1   high      5        4    small    low  unacc\n",
            "198       1   high      5        4    small    med  unacc\n",
            "\n",
            "[199 rows x 7 columns]\n"
          ]
        }
      ]
    },
    {
      "cell_type": "code",
      "source": [
        "x= df.iloc[:,[0,5]].values\n",
        "y= df.iloc[:,3].values\n",
        "print(y)"
      ],
      "metadata": {
        "colab": {
          "base_uri": "https://localhost:8080/"
        },
        "id": "my5Hu49F3u5H",
        "outputId": "025b1331-cea5-4f47-db6f-7d6585458482"
      },
      "execution_count": 103,
      "outputs": [
        {
          "output_type": "stream",
          "name": "stdout",
          "text": [
            "[0 0 0 0 0 0 0 0 1 1 1 1 1 1 1 1 1 1 1 1 1 1 1 1 1 1 0 0 0 0 0 0 0 0 0 1 1\n",
            " 1 1 1 1 1 1 1 1 1 1 1 1 1 1 1 1 0 0 0 0 0 0 0 0 0 1 1 1 1 1 1 1 1 1 0 0 0\n",
            " 0 0 0 0 0 0 0 0 0 0 0 0 0 0 0 1 1 1 1 1 1 1 1 1 0 0 0 0 0 0 0 0 0 0 0 0 0\n",
            " 0 0 0 0 0 1 1 1 1 1 1 1 1 1 1 1 1 1 1 1 1 1 1 0 0 0 0 0 0 0 0 0 1 1 1 1 1\n",
            " 1 1 1 1 1 1 1 1 1 1 1 1 1 0 0 0 0 0 0 0 0 0 1 1 1 1 1 1 1 1 1 0 0 0 0 0 0\n",
            " 0 0 0 0 0 0 0 0 0 0 0 0 1 1]\n"
          ]
        }
      ]
    },
    {
      "cell_type": "code",
      "source": [
        "from sklearn.model_selection import train_test_split\n",
        "x_train, x_test, y_train, y_test = train_test_split(x, y, test_size=0.25, random_state=0)\n",
        "print(x_train, x_test)"
      ],
      "metadata": {
        "colab": {
          "base_uri": "https://localhost:8080/"
        },
        "id": "0k1__RyJ4EHu",
        "outputId": "9e4d01b6-d4ae-461a-fe97-d48613140fa7"
      },
      "execution_count": 104,
      "outputs": [
        {
          "output_type": "stream",
          "name": "stdout",
          "text": [
            "[[1 1]\n",
            " [0 0]\n",
            " [1 1]\n",
            " [1 2]\n",
            " [0 1]\n",
            " [2 2]\n",
            " [2 2]\n",
            " [1 1]\n",
            " [2 0]\n",
            " [1 1]\n",
            " [0 0]\n",
            " [0 1]\n",
            " [0 2]\n",
            " [2 0]\n",
            " [0 1]\n",
            " [0 0]\n",
            " [1 2]\n",
            " [0 2]\n",
            " [2 2]\n",
            " [1 0]\n",
            " [0 2]\n",
            " [1 1]\n",
            " [1 2]\n",
            " [0 2]\n",
            " [0 1]\n",
            " [0 0]\n",
            " [1 2]\n",
            " [2 1]\n",
            " [2 2]\n",
            " [1 1]\n",
            " [1 0]\n",
            " [2 0]\n",
            " [0 1]\n",
            " [1 1]\n",
            " [1 1]\n",
            " [2 1]\n",
            " [1 1]\n",
            " [0 1]\n",
            " [0 2]\n",
            " [2 0]\n",
            " [2 0]\n",
            " [0 2]\n",
            " [1 0]\n",
            " [0 1]\n",
            " [0 2]\n",
            " [0 1]\n",
            " [0 1]\n",
            " [1 2]\n",
            " [1 2]\n",
            " [0 0]\n",
            " [0 0]\n",
            " [2 1]\n",
            " [2 2]\n",
            " [1 0]\n",
            " [1 0]\n",
            " [1 1]\n",
            " [1 0]\n",
            " [0 2]\n",
            " [2 1]\n",
            " [1 2]\n",
            " [2 0]\n",
            " [2 2]\n",
            " [1 0]\n",
            " [2 0]\n",
            " [0 2]\n",
            " [2 1]\n",
            " [0 1]\n",
            " [0 1]\n",
            " [2 1]\n",
            " [2 2]\n",
            " [1 2]\n",
            " [1 1]\n",
            " [1 0]\n",
            " [1 0]\n",
            " [1 0]\n",
            " [2 2]\n",
            " [1 1]\n",
            " [0 0]\n",
            " [0 1]\n",
            " [2 2]\n",
            " [1 1]\n",
            " [1 2]\n",
            " [1 0]\n",
            " [0 0]\n",
            " [0 1]\n",
            " [0 1]\n",
            " [1 0]\n",
            " [0 2]\n",
            " [2 1]\n",
            " [1 1]\n",
            " [1 2]\n",
            " [2 1]\n",
            " [1 2]\n",
            " [1 1]\n",
            " [2 0]\n",
            " [1 2]\n",
            " [0 1]\n",
            " [2 2]\n",
            " [1 2]\n",
            " [0 2]\n",
            " [0 2]\n",
            " [2 1]\n",
            " [2 1]\n",
            " [0 0]\n",
            " [1 1]\n",
            " [0 2]\n",
            " [0 1]\n",
            " [2 0]\n",
            " [2 0]\n",
            " [1 2]\n",
            " [0 0]\n",
            " [2 0]\n",
            " [0 1]\n",
            " [0 0]\n",
            " [0 0]\n",
            " [2 1]\n",
            " [0 0]\n",
            " [0 2]\n",
            " [0 2]\n",
            " [2 1]\n",
            " [1 2]\n",
            " [1 0]\n",
            " [1 0]\n",
            " [1 0]\n",
            " [0 0]\n",
            " [0 2]\n",
            " [1 2]\n",
            " [1 1]\n",
            " [2 0]\n",
            " [0 2]\n",
            " [1 2]\n",
            " [0 0]\n",
            " [0 2]\n",
            " [0 2]\n",
            " [2 2]\n",
            " [1 0]\n",
            " [0 1]\n",
            " [1 0]\n",
            " [1 0]\n",
            " [1 2]\n",
            " [2 2]\n",
            " [2 2]\n",
            " [2 2]\n",
            " [1 0]\n",
            " [1 0]\n",
            " [0 2]\n",
            " [1 2]\n",
            " [2 1]\n",
            " [0 0]] [[2 2]\n",
            " [0 0]\n",
            " [1 0]\n",
            " [1 1]\n",
            " [0 1]\n",
            " [0 2]\n",
            " [2 1]\n",
            " [0 0]\n",
            " [2 2]\n",
            " [0 0]\n",
            " [1 0]\n",
            " [0 0]\n",
            " [0 1]\n",
            " [0 0]\n",
            " [1 1]\n",
            " [2 0]\n",
            " [2 2]\n",
            " [0 2]\n",
            " [2 0]\n",
            " [1 1]\n",
            " [0 2]\n",
            " [0 2]\n",
            " [2 2]\n",
            " [0 1]\n",
            " [1 2]\n",
            " [0 1]\n",
            " [0 0]\n",
            " [0 0]\n",
            " [1 0]\n",
            " [2 1]\n",
            " [2 0]\n",
            " [1 0]\n",
            " [1 1]\n",
            " [1 1]\n",
            " [2 0]\n",
            " [0 1]\n",
            " [0 2]\n",
            " [2 0]\n",
            " [0 1]\n",
            " [0 0]\n",
            " [0 2]\n",
            " [1 2]\n",
            " [2 1]\n",
            " [0 1]\n",
            " [0 1]\n",
            " [1 2]\n",
            " [2 1]\n",
            " [1 2]\n",
            " [1 1]\n",
            " [0 0]]\n"
          ]
        }
      ]
    },
    {
      "cell_type": "code",
      "source": [
        "st_x= StandardScaler()\n",
        "x_train= st_x.fit_transform(x_train)\n",
        "x_test= st_x.transform(x_test)\n",
        "print(x_test)"
      ],
      "metadata": {
        "colab": {
          "base_uri": "https://localhost:8080/"
        },
        "id": "ZswW-Uau4UIW",
        "outputId": "681003e4-727b-46de-b9cc-6873a186f42e"
      },
      "execution_count": 105,
      "outputs": [
        {
          "output_type": "stream",
          "name": "stdout",
          "text": [
            "[[ 1.40463686  1.1748156 ]\n",
            " [-1.14769109 -1.25640002]\n",
            " [ 0.12847288 -1.25640002]\n",
            " [ 0.12847288 -0.04079221]\n",
            " [-1.14769109 -0.04079221]\n",
            " [-1.14769109  1.1748156 ]\n",
            " [ 1.40463686 -0.04079221]\n",
            " [-1.14769109 -1.25640002]\n",
            " [ 1.40463686  1.1748156 ]\n",
            " [-1.14769109 -1.25640002]\n",
            " [ 0.12847288 -1.25640002]\n",
            " [-1.14769109 -1.25640002]\n",
            " [-1.14769109 -0.04079221]\n",
            " [-1.14769109 -1.25640002]\n",
            " [ 0.12847288 -0.04079221]\n",
            " [ 1.40463686 -1.25640002]\n",
            " [ 1.40463686  1.1748156 ]\n",
            " [-1.14769109  1.1748156 ]\n",
            " [ 1.40463686 -1.25640002]\n",
            " [ 0.12847288 -0.04079221]\n",
            " [-1.14769109  1.1748156 ]\n",
            " [-1.14769109  1.1748156 ]\n",
            " [ 1.40463686  1.1748156 ]\n",
            " [-1.14769109 -0.04079221]\n",
            " [ 0.12847288  1.1748156 ]\n",
            " [-1.14769109 -0.04079221]\n",
            " [-1.14769109 -1.25640002]\n",
            " [-1.14769109 -1.25640002]\n",
            " [ 0.12847288 -1.25640002]\n",
            " [ 1.40463686 -0.04079221]\n",
            " [ 1.40463686 -1.25640002]\n",
            " [ 0.12847288 -1.25640002]\n",
            " [ 0.12847288 -0.04079221]\n",
            " [ 0.12847288 -0.04079221]\n",
            " [ 1.40463686 -1.25640002]\n",
            " [-1.14769109 -0.04079221]\n",
            " [-1.14769109  1.1748156 ]\n",
            " [ 1.40463686 -1.25640002]\n",
            " [-1.14769109 -0.04079221]\n",
            " [-1.14769109 -1.25640002]\n",
            " [-1.14769109  1.1748156 ]\n",
            " [ 0.12847288  1.1748156 ]\n",
            " [ 1.40463686 -0.04079221]\n",
            " [-1.14769109 -0.04079221]\n",
            " [-1.14769109 -0.04079221]\n",
            " [ 0.12847288  1.1748156 ]\n",
            " [ 1.40463686 -0.04079221]\n",
            " [ 0.12847288  1.1748156 ]\n",
            " [ 0.12847288 -0.04079221]\n",
            " [-1.14769109 -1.25640002]]\n"
          ]
        }
      ]
    },
    {
      "cell_type": "code",
      "source": [
        "from sklearn.tree import DecisionTreeClassifier\n",
        "clf= DecisionTreeClassifier(criterion='entropy',random_state=0)\n",
        "clf.fit(x,y)"
      ],
      "metadata": {
        "colab": {
          "base_uri": "https://localhost:8080/"
        },
        "id": "sxarnOKE4fz-",
        "outputId": "a875f9eb-913f-486f-dfde-d7d474623cb6"
      },
      "execution_count": 106,
      "outputs": [
        {
          "output_type": "execute_result",
          "data": {
            "text/plain": [
              "DecisionTreeClassifier(criterion='entropy', random_state=0)"
            ]
          },
          "metadata": {},
          "execution_count": 106
        }
      ]
    },
    {
      "cell_type": "code",
      "source": [
        "y_pred= classifier.predict(x)\n",
        "print(y_pred)"
      ],
      "metadata": {
        "colab": {
          "base_uri": "https://localhost:8080/"
        },
        "id": "Tg6IbRpX4pmW",
        "outputId": "7597d637-26fe-4a88-b7a8-cd5597bb5103"
      },
      "execution_count": 107,
      "outputs": [
        {
          "output_type": "stream",
          "name": "stdout",
          "text": [
            "[4 4 4 4 4 4 4 4 4 4 4 4 4 4 4 4 4 4 4 4 4 4 4 4 4 4 4 4 4 4 4 4 4 4 4 4 4\n",
            " 4 4 4 4 4 4 4 4 4 4 4 4 4 4 4 4 4 4 4 4 4 4 4 4 4 4 4 4 4 4 4 4 4 4 4 4 4\n",
            " 4 4 4 4 4 4 4 4 4 4 4 4 4 4 4 4 4 4 4 4 4 4 4 4 4 4 4 4 4 4 4 4 4 4 4 4 4\n",
            " 4 4 4 4 4 4 4 4 4 4 4 4 4 4 4 4 4 4 4 4 4 4 4 4 4 4 4 4 4 4 4 4 4 4 4 4 4\n",
            " 4 4 4 4 4 4 4 4 4 4 4 4 4 4 4 4 4 4 4 4 4 4 4 4 4 4 4 4 4 4 4 4 4 4 4 4 4\n",
            " 4 4 4 4 4 4 4 4 4 4 4 4 4 4]\n"
          ]
        }
      ]
    },
    {
      "cell_type": "code",
      "source": [
        "from sklearn.metrics import confusion_matrix\n",
        "cm= confusion_matrix(persons_test,persons_pred)\n",
        "print(cm)\n"
      ],
      "metadata": {
        "colab": {
          "base_uri": "https://localhost:8080/"
        },
        "id": "YiwmSF0P4twV",
        "outputId": "46f160fb-d8bd-4f4b-dfae-6813017ee8c7"
      },
      "execution_count": 108,
      "outputs": [
        {
          "output_type": "stream",
          "name": "stdout",
          "text": [
            "[[25  0]\n",
            " [ 0 25]]\n"
          ]
        }
      ]
    },
    {
      "cell_type": "code",
      "source": [
        "from sklearn.tree import export_graphviz\n",
        "import graphviz\n",
        "graphviz.Source(export_graphviz(clf,feature_names = x.columns,filled=True ))"
      ],
      "metadata": {
        "colab": {
          "base_uri": "https://localhost:8080/",
          "height": 200
        },
        "id": "f95hBb_e6T_X",
        "outputId": "ac397283-8eda-44c6-f5eb-92694c24fed9"
      },
      "execution_count": 110,
      "outputs": [
        {
          "output_type": "error",
          "ename": "AttributeError",
          "evalue": "ignored",
          "traceback": [
            "\u001b[0;31m---------------------------------------------------------------------------\u001b[0m",
            "\u001b[0;31mAttributeError\u001b[0m                            Traceback (most recent call last)",
            "\u001b[0;32m<ipython-input-110-a49a16b44f10>\u001b[0m in \u001b[0;36m<module>\u001b[0;34m\u001b[0m\n\u001b[1;32m      1\u001b[0m \u001b[0;32mfrom\u001b[0m \u001b[0msklearn\u001b[0m\u001b[0;34m.\u001b[0m\u001b[0mtree\u001b[0m \u001b[0;32mimport\u001b[0m \u001b[0mexport_graphviz\u001b[0m\u001b[0;34m\u001b[0m\u001b[0;34m\u001b[0m\u001b[0m\n\u001b[1;32m      2\u001b[0m \u001b[0;32mimport\u001b[0m \u001b[0mgraphviz\u001b[0m\u001b[0;34m\u001b[0m\u001b[0;34m\u001b[0m\u001b[0m\n\u001b[0;32m----> 3\u001b[0;31m \u001b[0mgraphviz\u001b[0m\u001b[0;34m.\u001b[0m\u001b[0mSource\u001b[0m\u001b[0;34m(\u001b[0m\u001b[0mexport_graphviz\u001b[0m\u001b[0;34m(\u001b[0m\u001b[0mclf\u001b[0m\u001b[0;34m,\u001b[0m\u001b[0mfeature_names\u001b[0m \u001b[0;34m=\u001b[0m \u001b[0mx\u001b[0m\u001b[0;34m.\u001b[0m\u001b[0mcolumns\u001b[0m\u001b[0;34m,\u001b[0m\u001b[0mfilled\u001b[0m\u001b[0;34m=\u001b[0m\u001b[0;32mTrue\u001b[0m \u001b[0;34m)\u001b[0m\u001b[0;34m)\u001b[0m\u001b[0;34m\u001b[0m\u001b[0;34m\u001b[0m\u001b[0m\n\u001b[0m",
            "\u001b[0;31mAttributeError\u001b[0m: 'numpy.ndarray' object has no attribute 'columns'"
          ]
        }
      ]
    },
    {
      "cell_type": "code",
      "source": [
        ""
      ],
      "metadata": {
        "id": "MPPWA2cO7uV2"
      },
      "execution_count": 109,
      "outputs": []
    }
  ]
}